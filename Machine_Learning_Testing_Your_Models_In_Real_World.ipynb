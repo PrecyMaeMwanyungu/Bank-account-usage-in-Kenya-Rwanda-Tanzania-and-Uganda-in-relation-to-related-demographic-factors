{
  "nbformat": 4,
  "nbformat_minor": 0,
  "metadata": {
    "colab": {
      "name": "Machine_Learning_Testing_Your_Models_In_Real_World",
      "provenance": [],
      "authorship_tag": "ABX9TyMNBo8/gJGoB2+4L2tXG6DP",
      "include_colab_link": true
    },
    "kernelspec": {
      "name": "python3",
      "display_name": "Python 3"
    },
    "language_info": {
      "name": "python"
    }
  },
  "cells": [
    {
      "cell_type": "markdown",
      "metadata": {
        "id": "view-in-github",
        "colab_type": "text"
      },
      "source": [
        "<a href=\"https://colab.research.google.com/github/PrecyMaeMwanyungu/Bank-account-usage-in-Kenya-Rwanda-Tanzania-and-Uganda-in-relation-to-related-demographic-factors/blob/master/Machine_Learning_Testing_Your_Models_In_Real_World.ipynb\" target=\"_parent\"><img src=\"https://colab.research.google.com/assets/colab-badge.svg\" alt=\"Open In Colab\"/></a>"
      ]
    },
    {
      "cell_type": "markdown",
      "metadata": {
        "id": "RaNTFtT7i0o9"
      },
      "source": [
        "# Lab: Testing Your Models in the Real World\n",
        "## How do you know that your models will do a good job making predictions on new, unseen data?\n",
        "This lab will discuss the fundamentals of splitting your data into training, validation and test data sets and demonstrate the dangers of overreliance on training data to make predictions.\n"
      ]
    },
    {
      "cell_type": "markdown",
      "metadata": {
        "id": "SCO24gxMjCNz"
      },
      "source": [
        "## Section 1: Import Data\n",
        "This lab uses the [Stroke Prediction Dataset](https://www.kaggle.com/fedesoriano/stroke-prediction-dataset) from Kaggle.\n",
        "In order to interact with the data in python, you will need to import the CSV into a pandas dataframe. The pandas package is useful for manipulating and analyzing data.\n"
      ]
    },
    {
      "cell_type": "code",
      "metadata": {
        "colab": {
          "base_uri": "https://localhost:8080/",
          "height": 740
        },
        "id": "KIq85hk1i-e2",
        "outputId": "423a2b9e-d0b3-4ba3-99e0-cf95a0bc4a19"
      },
      "source": [
        "#Import pandas package\n",
        "import pandas as pd\n",
        "#Read in stroke data\n",
        "stroke_data = pd.read_csv('healthcare-dataset-stroke-data.csv')\n",
        "# \n",
        "stroke_data.head(20) "
      ],
      "execution_count": null,
      "outputs": [
        {
          "output_type": "execute_result",
          "data": {
            "text/html": [
              "<div>\n",
              "<style scoped>\n",
              "    .dataframe tbody tr th:only-of-type {\n",
              "        vertical-align: middle;\n",
              "    }\n",
              "\n",
              "    .dataframe tbody tr th {\n",
              "        vertical-align: top;\n",
              "    }\n",
              "\n",
              "    .dataframe thead th {\n",
              "        text-align: right;\n",
              "    }\n",
              "</style>\n",
              "<table border=\"1\" class=\"dataframe\">\n",
              "  <thead>\n",
              "    <tr style=\"text-align: right;\">\n",
              "      <th></th>\n",
              "      <th>id</th>\n",
              "      <th>gender</th>\n",
              "      <th>age</th>\n",
              "      <th>hypertension</th>\n",
              "      <th>heart_disease</th>\n",
              "      <th>ever_married</th>\n",
              "      <th>work_type</th>\n",
              "      <th>Residence_type</th>\n",
              "      <th>avg_glucose_level</th>\n",
              "      <th>bmi</th>\n",
              "      <th>smoking_status</th>\n",
              "      <th>stroke</th>\n",
              "    </tr>\n",
              "  </thead>\n",
              "  <tbody>\n",
              "    <tr>\n",
              "      <th>0</th>\n",
              "      <td>9046</td>\n",
              "      <td>Male</td>\n",
              "      <td>67.0</td>\n",
              "      <td>0</td>\n",
              "      <td>1</td>\n",
              "      <td>Yes</td>\n",
              "      <td>Private</td>\n",
              "      <td>Urban</td>\n",
              "      <td>228.69</td>\n",
              "      <td>36.6</td>\n",
              "      <td>formerly smoked</td>\n",
              "      <td>1</td>\n",
              "    </tr>\n",
              "    <tr>\n",
              "      <th>1</th>\n",
              "      <td>51676</td>\n",
              "      <td>Female</td>\n",
              "      <td>61.0</td>\n",
              "      <td>0</td>\n",
              "      <td>0</td>\n",
              "      <td>Yes</td>\n",
              "      <td>Self-employed</td>\n",
              "      <td>Rural</td>\n",
              "      <td>202.21</td>\n",
              "      <td>NaN</td>\n",
              "      <td>never smoked</td>\n",
              "      <td>1</td>\n",
              "    </tr>\n",
              "    <tr>\n",
              "      <th>2</th>\n",
              "      <td>31112</td>\n",
              "      <td>Male</td>\n",
              "      <td>80.0</td>\n",
              "      <td>0</td>\n",
              "      <td>1</td>\n",
              "      <td>Yes</td>\n",
              "      <td>Private</td>\n",
              "      <td>Rural</td>\n",
              "      <td>105.92</td>\n",
              "      <td>32.5</td>\n",
              "      <td>never smoked</td>\n",
              "      <td>1</td>\n",
              "    </tr>\n",
              "    <tr>\n",
              "      <th>3</th>\n",
              "      <td>60182</td>\n",
              "      <td>Female</td>\n",
              "      <td>49.0</td>\n",
              "      <td>0</td>\n",
              "      <td>0</td>\n",
              "      <td>Yes</td>\n",
              "      <td>Private</td>\n",
              "      <td>Urban</td>\n",
              "      <td>171.23</td>\n",
              "      <td>34.4</td>\n",
              "      <td>smokes</td>\n",
              "      <td>1</td>\n",
              "    </tr>\n",
              "    <tr>\n",
              "      <th>4</th>\n",
              "      <td>1665</td>\n",
              "      <td>Female</td>\n",
              "      <td>79.0</td>\n",
              "      <td>1</td>\n",
              "      <td>0</td>\n",
              "      <td>Yes</td>\n",
              "      <td>Self-employed</td>\n",
              "      <td>Rural</td>\n",
              "      <td>174.12</td>\n",
              "      <td>24.0</td>\n",
              "      <td>never smoked</td>\n",
              "      <td>1</td>\n",
              "    </tr>\n",
              "    <tr>\n",
              "      <th>5</th>\n",
              "      <td>56669</td>\n",
              "      <td>Male</td>\n",
              "      <td>81.0</td>\n",
              "      <td>0</td>\n",
              "      <td>0</td>\n",
              "      <td>Yes</td>\n",
              "      <td>Private</td>\n",
              "      <td>Urban</td>\n",
              "      <td>186.21</td>\n",
              "      <td>29.0</td>\n",
              "      <td>formerly smoked</td>\n",
              "      <td>1</td>\n",
              "    </tr>\n",
              "    <tr>\n",
              "      <th>6</th>\n",
              "      <td>53882</td>\n",
              "      <td>Male</td>\n",
              "      <td>74.0</td>\n",
              "      <td>1</td>\n",
              "      <td>1</td>\n",
              "      <td>Yes</td>\n",
              "      <td>Private</td>\n",
              "      <td>Rural</td>\n",
              "      <td>70.09</td>\n",
              "      <td>27.4</td>\n",
              "      <td>never smoked</td>\n",
              "      <td>1</td>\n",
              "    </tr>\n",
              "    <tr>\n",
              "      <th>7</th>\n",
              "      <td>10434</td>\n",
              "      <td>Female</td>\n",
              "      <td>69.0</td>\n",
              "      <td>0</td>\n",
              "      <td>0</td>\n",
              "      <td>No</td>\n",
              "      <td>Private</td>\n",
              "      <td>Urban</td>\n",
              "      <td>94.39</td>\n",
              "      <td>22.8</td>\n",
              "      <td>never smoked</td>\n",
              "      <td>1</td>\n",
              "    </tr>\n",
              "    <tr>\n",
              "      <th>8</th>\n",
              "      <td>27419</td>\n",
              "      <td>Female</td>\n",
              "      <td>59.0</td>\n",
              "      <td>0</td>\n",
              "      <td>0</td>\n",
              "      <td>Yes</td>\n",
              "      <td>Private</td>\n",
              "      <td>Rural</td>\n",
              "      <td>76.15</td>\n",
              "      <td>NaN</td>\n",
              "      <td>Unknown</td>\n",
              "      <td>1</td>\n",
              "    </tr>\n",
              "    <tr>\n",
              "      <th>9</th>\n",
              "      <td>60491</td>\n",
              "      <td>Female</td>\n",
              "      <td>78.0</td>\n",
              "      <td>0</td>\n",
              "      <td>0</td>\n",
              "      <td>Yes</td>\n",
              "      <td>Private</td>\n",
              "      <td>Urban</td>\n",
              "      <td>58.57</td>\n",
              "      <td>24.2</td>\n",
              "      <td>Unknown</td>\n",
              "      <td>1</td>\n",
              "    </tr>\n",
              "    <tr>\n",
              "      <th>10</th>\n",
              "      <td>12109</td>\n",
              "      <td>Female</td>\n",
              "      <td>81.0</td>\n",
              "      <td>1</td>\n",
              "      <td>0</td>\n",
              "      <td>Yes</td>\n",
              "      <td>Private</td>\n",
              "      <td>Rural</td>\n",
              "      <td>80.43</td>\n",
              "      <td>29.7</td>\n",
              "      <td>never smoked</td>\n",
              "      <td>1</td>\n",
              "    </tr>\n",
              "    <tr>\n",
              "      <th>11</th>\n",
              "      <td>12095</td>\n",
              "      <td>Female</td>\n",
              "      <td>61.0</td>\n",
              "      <td>0</td>\n",
              "      <td>1</td>\n",
              "      <td>Yes</td>\n",
              "      <td>Govt_job</td>\n",
              "      <td>Rural</td>\n",
              "      <td>120.46</td>\n",
              "      <td>36.8</td>\n",
              "      <td>smokes</td>\n",
              "      <td>1</td>\n",
              "    </tr>\n",
              "    <tr>\n",
              "      <th>12</th>\n",
              "      <td>12175</td>\n",
              "      <td>Female</td>\n",
              "      <td>54.0</td>\n",
              "      <td>0</td>\n",
              "      <td>0</td>\n",
              "      <td>Yes</td>\n",
              "      <td>Private</td>\n",
              "      <td>Urban</td>\n",
              "      <td>104.51</td>\n",
              "      <td>27.3</td>\n",
              "      <td>smokes</td>\n",
              "      <td>1</td>\n",
              "    </tr>\n",
              "    <tr>\n",
              "      <th>13</th>\n",
              "      <td>8213</td>\n",
              "      <td>Male</td>\n",
              "      <td>78.0</td>\n",
              "      <td>0</td>\n",
              "      <td>1</td>\n",
              "      <td>Yes</td>\n",
              "      <td>Private</td>\n",
              "      <td>Urban</td>\n",
              "      <td>219.84</td>\n",
              "      <td>NaN</td>\n",
              "      <td>Unknown</td>\n",
              "      <td>1</td>\n",
              "    </tr>\n",
              "    <tr>\n",
              "      <th>14</th>\n",
              "      <td>5317</td>\n",
              "      <td>Female</td>\n",
              "      <td>79.0</td>\n",
              "      <td>0</td>\n",
              "      <td>1</td>\n",
              "      <td>Yes</td>\n",
              "      <td>Private</td>\n",
              "      <td>Urban</td>\n",
              "      <td>214.09</td>\n",
              "      <td>28.2</td>\n",
              "      <td>never smoked</td>\n",
              "      <td>1</td>\n",
              "    </tr>\n",
              "    <tr>\n",
              "      <th>15</th>\n",
              "      <td>58202</td>\n",
              "      <td>Female</td>\n",
              "      <td>50.0</td>\n",
              "      <td>1</td>\n",
              "      <td>0</td>\n",
              "      <td>Yes</td>\n",
              "      <td>Self-employed</td>\n",
              "      <td>Rural</td>\n",
              "      <td>167.41</td>\n",
              "      <td>30.9</td>\n",
              "      <td>never smoked</td>\n",
              "      <td>1</td>\n",
              "    </tr>\n",
              "    <tr>\n",
              "      <th>16</th>\n",
              "      <td>56112</td>\n",
              "      <td>Male</td>\n",
              "      <td>64.0</td>\n",
              "      <td>0</td>\n",
              "      <td>1</td>\n",
              "      <td>Yes</td>\n",
              "      <td>Private</td>\n",
              "      <td>Urban</td>\n",
              "      <td>191.61</td>\n",
              "      <td>37.5</td>\n",
              "      <td>smokes</td>\n",
              "      <td>1</td>\n",
              "    </tr>\n",
              "    <tr>\n",
              "      <th>17</th>\n",
              "      <td>34120</td>\n",
              "      <td>Male</td>\n",
              "      <td>75.0</td>\n",
              "      <td>1</td>\n",
              "      <td>0</td>\n",
              "      <td>Yes</td>\n",
              "      <td>Private</td>\n",
              "      <td>Urban</td>\n",
              "      <td>221.29</td>\n",
              "      <td>25.8</td>\n",
              "      <td>smokes</td>\n",
              "      <td>1</td>\n",
              "    </tr>\n",
              "    <tr>\n",
              "      <th>18</th>\n",
              "      <td>27458</td>\n",
              "      <td>Female</td>\n",
              "      <td>60.0</td>\n",
              "      <td>0</td>\n",
              "      <td>0</td>\n",
              "      <td>No</td>\n",
              "      <td>Private</td>\n",
              "      <td>Urban</td>\n",
              "      <td>89.22</td>\n",
              "      <td>37.8</td>\n",
              "      <td>never smoked</td>\n",
              "      <td>1</td>\n",
              "    </tr>\n",
              "    <tr>\n",
              "      <th>19</th>\n",
              "      <td>25226</td>\n",
              "      <td>Male</td>\n",
              "      <td>57.0</td>\n",
              "      <td>0</td>\n",
              "      <td>1</td>\n",
              "      <td>No</td>\n",
              "      <td>Govt_job</td>\n",
              "      <td>Urban</td>\n",
              "      <td>217.08</td>\n",
              "      <td>NaN</td>\n",
              "      <td>Unknown</td>\n",
              "      <td>1</td>\n",
              "    </tr>\n",
              "  </tbody>\n",
              "</table>\n",
              "</div>"
            ],
            "text/plain": [
              "       id  gender   age  ...   bmi   smoking_status stroke\n",
              "0    9046    Male  67.0  ...  36.6  formerly smoked      1\n",
              "1   51676  Female  61.0  ...   NaN     never smoked      1\n",
              "2   31112    Male  80.0  ...  32.5     never smoked      1\n",
              "3   60182  Female  49.0  ...  34.4           smokes      1\n",
              "4    1665  Female  79.0  ...  24.0     never smoked      1\n",
              "5   56669    Male  81.0  ...  29.0  formerly smoked      1\n",
              "6   53882    Male  74.0  ...  27.4     never smoked      1\n",
              "7   10434  Female  69.0  ...  22.8     never smoked      1\n",
              "8   27419  Female  59.0  ...   NaN          Unknown      1\n",
              "9   60491  Female  78.0  ...  24.2          Unknown      1\n",
              "10  12109  Female  81.0  ...  29.7     never smoked      1\n",
              "11  12095  Female  61.0  ...  36.8           smokes      1\n",
              "12  12175  Female  54.0  ...  27.3           smokes      1\n",
              "13   8213    Male  78.0  ...   NaN          Unknown      1\n",
              "14   5317  Female  79.0  ...  28.2     never smoked      1\n",
              "15  58202  Female  50.0  ...  30.9     never smoked      1\n",
              "16  56112    Male  64.0  ...  37.5           smokes      1\n",
              "17  34120    Male  75.0  ...  25.8           smokes      1\n",
              "18  27458  Female  60.0  ...  37.8     never smoked      1\n",
              "19  25226    Male  57.0  ...   NaN          Unknown      1\n",
              "\n",
              "[20 rows x 12 columns]"
            ]
          },
          "metadata": {},
          "execution_count": 12
        }
      ]
    },
    {
      "cell_type": "markdown",
      "metadata": {
        "id": "ViaUeLjelGFh"
      },
      "source": [
        "Below are some summary statistics about the stroke column, which is what you will be trying to predict.\n"
      ]
    },
    {
      "cell_type": "code",
      "metadata": {
        "colab": {
          "base_uri": "https://localhost:8080/",
          "height": 159
        },
        "id": "k71IbpwikaP3",
        "outputId": "e2902864-bc71-4968-a909-36f15974f515"
      },
      "source": [
        "#Count the total records in the dataset\n",
        "total_records = stroke_data.shape[0]\n",
        "print('There are {:,} records in the stroke dataset.'.format(total_records))\n",
        "summary = pd.DataFrame(stroke_data.groupby('stroke').size()).rename(columns={0:'Count'})\n",
        "summary['Percent'] = summary['Count'] / total_records\n",
        "summary\n"
      ],
      "execution_count": null,
      "outputs": [
        {
          "output_type": "stream",
          "name": "stdout",
          "text": [
            "There are 5,110 records in the stroke dataset.\n"
          ]
        },
        {
          "output_type": "execute_result",
          "data": {
            "text/html": [
              "<div>\n",
              "<style scoped>\n",
              "    .dataframe tbody tr th:only-of-type {\n",
              "        vertical-align: middle;\n",
              "    }\n",
              "\n",
              "    .dataframe tbody tr th {\n",
              "        vertical-align: top;\n",
              "    }\n",
              "\n",
              "    .dataframe thead th {\n",
              "        text-align: right;\n",
              "    }\n",
              "</style>\n",
              "<table border=\"1\" class=\"dataframe\">\n",
              "  <thead>\n",
              "    <tr style=\"text-align: right;\">\n",
              "      <th></th>\n",
              "      <th>Count</th>\n",
              "      <th>Percent</th>\n",
              "    </tr>\n",
              "    <tr>\n",
              "      <th>stroke</th>\n",
              "      <th></th>\n",
              "      <th></th>\n",
              "    </tr>\n",
              "  </thead>\n",
              "  <tbody>\n",
              "    <tr>\n",
              "      <th>0</th>\n",
              "      <td>4861</td>\n",
              "      <td>0.951272</td>\n",
              "    </tr>\n",
              "    <tr>\n",
              "      <th>1</th>\n",
              "      <td>249</td>\n",
              "      <td>0.048728</td>\n",
              "    </tr>\n",
              "  </tbody>\n",
              "</table>\n",
              "</div>"
            ],
            "text/plain": [
              "        Count   Percent\n",
              "stroke                 \n",
              "0        4861  0.951272\n",
              "1         249  0.048728"
            ]
          },
          "metadata": {},
          "execution_count": 11
        }
      ]
    },
    {
      "cell_type": "markdown",
      "metadata": {
        "id": "PYTlRtkXljB3"
      },
      "source": [
        "* Ninety-five percent of the patients in this data did not have a stroke. Therefore, you could build a model that always predicts \"no stroke\" and have 95% accuracy. \n",
        "* This is not, however, what you want to do, since the goal is to accurately predict when a patient does have a stroke.\n",
        "There are a number of techniques to deal with unbalanced datasets such as this one. \n",
        "* For this lab, you will use the true positive rate to assess the performance of your predictions.\n",
        "True Positive Rate=\n",
        "𝑇𝑃\n",
        "/\n",
        "𝑇𝑃+𝐹𝑁\n",
        "True Positive Rate=TP/TP+FN\n",
        "where\n",
        "### TP\n",
        "TP is the number of true positive predictions (actual value = stroke; predicted value = stroke)\n",
        "### 𝐹𝑁\n",
        "FN is the number of false negative predictions (actual value = stroke; predicted value = no stroke)\n",
        "This value, also called sensitivity or recall, measures how well a model is at capturing actual stroke cases.\n",
        "\n",
        "* Assuming medical interventions are relatively cheap (i.e., recommending weight loss or exercise to a patient in danger of a stroke), it is better to have the occasional false positive than miss patients at high risk for strokes.\n",
        "\n",
        "* So now that you know how you will evaluate the predictions from your model, how can you know if your model does well predicting strokes in the real world? The goal is to build a model that identifies factors indicating a high likelihood of having a stroke, so interventions can hopefully prevent the stroke before it happens.\n",
        "* This being the case, you need to evaluate correct predictions on data that the model has never seen before. This can be done by splitting your data into a training dataset (to use for training and evaluating the model as it is being built) and a test dataset.\n"
      ]
    },
    {
      "cell_type": "markdown",
      "metadata": {
        "id": "bpYt9GlPmZU-"
      },
      "source": [
        "### Data Cleanup\n",
        "- Before you can do any modeling, categorical variables that will be used to predict strokes need to be converted to dummy variables.\n",
        "- You also need to replace missing data in the BMI column. For this lab, you will simply use the average BMI to replace the missing data.\n"
      ]
    },
    {
      "cell_type": "code",
      "metadata": {
        "id": "vx1G5wYAlMf5"
      },
      "source": [
        "#Gender\n",
        "#First, to make things easier, remove the one \"other\" gender value.\n",
        "stroke_data = stroke_data[stroke_data['gender'] != 'Other']\n",
        "#Add new column 'male': 1 = male; 0 = female\n",
        "stroke_data['male'] = pd.get_dummies(stroke_data['gender'], drop_first=True)\n",
        "#Add new column 'urban': 1 = urban; 0 = rural\n",
        "stroke_data['urban'] = pd.get_dummies(stroke_data['Residence_type'], drop_first=True)\n",
        "\n",
        "stroke_data['married'] = pd.get_dummies(stroke_data['ever_married'], drop_first=True)\n",
        "smoking_dummies = pd.get_dummies(stroke_data['smoking_status'], drop_first=True)\n",
        "stroke_data = pd.concat([stroke_data, smoking_dummies], axis=1)\n",
        "##Replace Missing BMI with average BMI\n",
        "bmi_average = stroke_data['bmi'].mean()\n",
        "stroke_data['bmi'] = stroke_data['bmi'].fillna(bmi_average)\n"
      ],
      "execution_count": null,
      "outputs": []
    },
    {
      "cell_type": "markdown",
      "metadata": {
        "id": "fL50MrpEn1tF"
      },
      "source": [
        "## Section 2: Create a Test Dataset\n",
        "* You will now split your dataset into two datasets:\n",
        "1. Training Data: Used to train your model to identify important predictors of stroke\n",
        "2. Test Data: Reserved to evaluate the model on new, unseen data\n",
        "* The scikit-learn package in python has many tools for machine learning, including data preparation tools. For this lab, you will be using the train_test_split function.\n",
        "* Inputs to train_test_split:\n",
        "arrays: This is where you enter one or more arrays: the entire dataset including the output or two separate arrays (X array (predictors) and y array (output) variable). If you enter two arrays, the number of rows in the X and y arrays must be the same and the indexes must align the data.\n",
        "\n",
        "* test_size: Value between 0 and 1 that indicates the percentage of data to be reserved for the test dataset (defaults to 0.25 if train_size is None).\n",
        "* train_size: Value between 0 and 1 that indicates the percentage of data to be used for the training dataset (complement of test_size if test_size is set and this value is None).\n",
        "* random_state: Seed value for randomizing the data split.\n",
        "shuffle: Whether to shuffle the data before splitting (defaults to True).\n",
        "* stratify: Output field to use for stratified sampling (defaults to None).\n",
        "####Since your dataset has unbalanced output classes, you want to be sure to use the stratify option.\n"
      ]
    },
    {
      "cell_type": "code",
      "metadata": {
        "id": "NQfpmJbUnIRq"
      },
      "source": [
        "#Import train_test_split function from scikit-learn package\n",
        "from sklearn.model_selection import train_test_split\n",
        "train, test = train_test_split(stroke_data,train_size=0.8,stratify=stroke_data['stroke'])"
      ],
      "execution_count": null,
      "outputs": []
    },
    {
      "cell_type": "code",
      "metadata": {
        "colab": {
          "base_uri": "https://localhost:8080/",
          "height": 159
        },
        "id": "923veuifocaR",
        "outputId": "7f11e04d-bef2-47a0-ffef-8d2661a8bd49"
      },
      "source": [
        "#Count the total records in the training dataset\n",
        "training_records = train.shape[0] ##GET THE COUNT OF RECORDS IN TRAINING DATASET##\n",
        "print('There are {:,} records in the training dataset.'.format(training_records))\n",
        "train_summary = pd.DataFrame(train.groupby('stroke').size()).rename(columns={0:'Count'})\n",
        "train_summary['Percent'] = train_summary['Count'] / training_records##CALCULATE percent of data grouped by stroke/no stroke##\n",
        "train_summary\n"
      ],
      "execution_count": null,
      "outputs": [
        {
          "output_type": "stream",
          "name": "stdout",
          "text": [
            "There are 4,087 records in the training dataset.\n"
          ]
        },
        {
          "output_type": "execute_result",
          "data": {
            "text/html": [
              "<div>\n",
              "<style scoped>\n",
              "    .dataframe tbody tr th:only-of-type {\n",
              "        vertical-align: middle;\n",
              "    }\n",
              "\n",
              "    .dataframe tbody tr th {\n",
              "        vertical-align: top;\n",
              "    }\n",
              "\n",
              "    .dataframe thead th {\n",
              "        text-align: right;\n",
              "    }\n",
              "</style>\n",
              "<table border=\"1\" class=\"dataframe\">\n",
              "  <thead>\n",
              "    <tr style=\"text-align: right;\">\n",
              "      <th></th>\n",
              "      <th>Count</th>\n",
              "      <th>Percent</th>\n",
              "    </tr>\n",
              "    <tr>\n",
              "      <th>stroke</th>\n",
              "      <th></th>\n",
              "      <th></th>\n",
              "    </tr>\n",
              "  </thead>\n",
              "  <tbody>\n",
              "    <tr>\n",
              "      <th>0</th>\n",
              "      <td>3888</td>\n",
              "      <td>0.951309</td>\n",
              "    </tr>\n",
              "    <tr>\n",
              "      <th>1</th>\n",
              "      <td>199</td>\n",
              "      <td>0.048691</td>\n",
              "    </tr>\n",
              "  </tbody>\n",
              "</table>\n",
              "</div>"
            ],
            "text/plain": [
              "        Count   Percent\n",
              "stroke                 \n",
              "0        3888  0.951309\n",
              "1         199  0.048691"
            ]
          },
          "metadata": {},
          "execution_count": 33
        }
      ]
    },
    {
      "cell_type": "code",
      "metadata": {
        "colab": {
          "base_uri": "https://localhost:8080/",
          "height": 129
        },
        "id": "pcTFY3HHo_IT",
        "outputId": "29416b30-3f0f-40b9-b0c2-eb3f29c502e5"
      },
      "source": [
        "#Count the total records in the test dataset\n",
        "test_records =test.shape[0] ##GET THE COUNT OF RECORDS IN TEST DATASET##\n",
        "print('There are {:,} records in the test dataset.'.format(test_records))\n",
        "#\n",
        "​test_summary= pd.DataFrame(test.groupby('stroke').size()).rename(columns={0:'Count'})\n",
        "\n",
        "test_summary['Percent'] = test_summary['Count']/ test_records\n",
        "##CALCULATE percent of data grouped by stroke/no stroke##\n",
        "test_summary"
      ],
      "execution_count": null,
      "outputs": [
        {
          "output_type": "error",
          "ename": "SyntaxError",
          "evalue": "ignored",
          "traceback": [
            "\u001b[0;36m  File \u001b[0;32m\"<ipython-input-47-d98d5dc246be>\"\u001b[0;36m, line \u001b[0;32m5\u001b[0m\n\u001b[0;31m    ​test_summary=pd.DataFrame(test.groupby('stroke').size()).rename(columns={0:'Count'})\u001b[0m\n\u001b[0m                ^\u001b[0m\n\u001b[0;31mSyntaxError\u001b[0m\u001b[0;31m:\u001b[0m invalid character in identifier\n"
          ]
        }
      ]
    },
    {
      "cell_type": "code",
      "metadata": {
        "colab": {
          "base_uri": "https://localhost:8080/"
        },
        "id": "tONSjVoEpymm",
        "outputId": "8eceaf57-49a5-427c-aceb-1dc83e4b7ff6"
      },
      "source": [
        "#Confirm the split did what you expected!\n",
        "print('There are {:.1%} of all records in training dataset.'.format(training_records/total_records))\n"
      ],
      "execution_count": null,
      "outputs": [
        {
          "output_type": "stream",
          "name": "stdout",
          "text": [
            "There are 80.0% of all records in training dataset.\n"
          ]
        }
      ]
    },
    {
      "cell_type": "markdown",
      "metadata": {
        "id": "2O1a6QYZq2RD"
      },
      "source": [
        "## Section 3: Tune Models Using Validation Data\n",
        "* So, now you have your training dataset and you know what metric to use to evaluate your model. But how can you tune a model to ensure it is the best algorithm and best settings for your dataset? \n",
        "* You could use the true positive rate for the training dataset, but overreliance on the training dataset may create blindspots in your model where there is real combinations of predictors that due to limited data or simple bad luck were never seen in your training data.\n",
        "* How about the test data? This is not a good idea because you want to keep the test data separate from the model evaluation/tuning process while building the model. If you use the test dataset during model training and evaluation, the test dataset will no longer represent \"unseen\" data, which is import to evaluate how your model generalizes.\n",
        "* So what can you do? The answer is validation data. This is another split of the data, this time using the training dataset.\n",
        "Using the training dataset, you can again use the \n",
        "### train_test_split function to create two new datasets:\n",
        "* train_final: The final dataset used to train your models\n",
        "* validation: The dataset used to evaluate and tune your models\n"
      ]
    },
    {
      "cell_type": "code",
      "metadata": {
        "id": "-9z29u5KqxaN"
      },
      "source": [
        "from sklearn.model_selection import train_test_split #Split the training data into training/validation data using a 75%/25% split\n",
        "#Be sure to use stratified sampling!\n",
        "train_final, validation = train_test_split(train,train_size=0.75,stratify=train['stroke'])\n",
        "# Now you can finally built a binary classification model to predict strokes.\n",
        "# You will be using the K-Nearest Neighbors to build your model.\n"
      ],
      "execution_count": null,
      "outputs": []
    },
    {
      "cell_type": "code",
      "metadata": {
        "colab": {
          "base_uri": "https://localhost:8080/",
          "height": 129
        },
        "id": "cu8nM0SfrSrj",
        "outputId": "0ae10206-94cd-4808-c8ae-737cddc5846d"
      },
      "source": [
        "#Import KNN model function from scikit-learn\n",
        "from sklearn.neighbors import KNeighborsClassifier\n",
        "model=KNeighborsClassifier(n_neighbors=5)\n",
        "​#Remove 'id' and 'stroke' column from features (predictors)\n",
        "features = ~train_final.columns.isin(['gender','ever_married','work_type','Residence_type','smoking_status'])\n",
        "feature_columns = train_final.columns[features]\n",
        "model.fit(train_final[feature_columns],train_final['stroke'])\n"
      ],
      "execution_count": null,
      "outputs": [
        {
          "output_type": "error",
          "ename": "SyntaxError",
          "evalue": "ignored",
          "traceback": [
            "\u001b[0;36m  File \u001b[0;32m\"<ipython-input-56-f0cc4c080269>\"\u001b[0;36m, line \u001b[0;32m4\u001b[0m\n\u001b[0;31m    ​#Remove 'id' and 'stroke' column from features (predictors)\u001b[0m\n\u001b[0m    ^\u001b[0m\n\u001b[0;31mSyntaxError\u001b[0m\u001b[0;31m:\u001b[0m invalid character in identifier\n"
          ]
        }
      ]
    },
    {
      "cell_type": "code",
      "metadata": {
        "id": "IIayT_pUrX4I",
        "colab": {
          "base_uri": "https://localhost:8080/",
          "height": 129
        },
        "outputId": "a1855c4e-1070-4104-a5cb-7308af3d05fc"
      },
      "source": [
        "#Import true positive rate (recall) function\n",
        "from sklearn.metrics import recall_score\n",
        "​\n",
        "#Predict output for training dataset\n",
        "train_predict = model.predict(train_final[feature_columns])\n",
        "​\n",
        "tpr_train = recall_score(train_final['stroke'],train_predict)\n",
        "print('The true positive rate for the training dataset is {:.3%}.'.format(tpr_train))\n"
      ],
      "execution_count": null,
      "outputs": [
        {
          "output_type": "error",
          "ename": "SyntaxError",
          "evalue": "ignored",
          "traceback": [
            "\u001b[0;36m  File \u001b[0;32m\"<ipython-input-1-83ace42e579c>\"\u001b[0;36m, line \u001b[0;32m3\u001b[0m\n\u001b[0;31m    ​\u001b[0m\n\u001b[0m    ^\u001b[0m\n\u001b[0;31mSyntaxError\u001b[0m\u001b[0;31m:\u001b[0m invalid character in identifier\n"
          ]
        }
      ]
    },
    {
      "cell_type": "code",
      "metadata": {
        "id": "Z6gTGW3Fafre"
      },
      "source": [
        ""
      ],
      "execution_count": null,
      "outputs": []
    }
  ]
}